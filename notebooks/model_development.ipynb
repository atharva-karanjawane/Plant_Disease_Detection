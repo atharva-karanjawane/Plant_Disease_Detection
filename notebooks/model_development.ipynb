{
 "cells": [
  {
   "cell_type": "markdown",
   "metadata": {},
   "source": [
    "# Crop Disease Prediction Model Development\n",
    "\n",
    "This notebook demonstrates the development process for our crop disease prediction model using EfficientNetB0."
   ]
  },
  {
   "cell_type": "code",
   "execution_count": null,
   "metadata": {},
   "source": [
    "import os\n",
    "import sys\n",
    "import numpy as np\n",
    "import matplotlib.pyplot as plt\n",
    "import tensorflow as tf\n",
    "from tensorflow.keras.applications import EfficientNetB0\n",
    "from tensorflow.keras.models import Model\n",
    "from tensorflow.keras.layers import Dense, GlobalAveragePooling2D, Dropout\n",
    "from tensorflow.keras.preprocessing.image import ImageDataGenerator\n",
    "from tensorflow.keras.callbacks import ModelCheckpoint, EarlyStopping, ReduceLROnPlateau\n",
    "from sklearn.metrics import classification_report, confusion_matrix\n",
    "import seaborn as sns\n",
    "\n",
    "# Add parent directory to path to import project modules\n",
    "sys.path.append('..')"
   ]
  },
  {
   "cell_type": "markdown",
   "metadata": {},
   "source": [
    "## 1. Data Exploration"
   ]
  },
  {
   "cell_type": "code",
   "execution_count": null,
   "metadata": {},
   "source": [
    "# Set path to dataset\n",
    "dataset_path = '../data/plantvillage'\n",
    "\n",
    "# Get class names\n",
    "class_names = sorted([d for d in os.listdir(dataset_path) \n",
    "                      if os.path.isdir(os.path.join(dataset_path, d))])\n",
    "\n",
    "print(f\"Found {len(class_names)} classes\")\n",
    "print(f\"First 5 classes: {class_names[:5]}\")"
   ]
  },
  {
   "cell_type": "code",
   "execution_count": null,
   "metadata": {},
   "source": [
    "# Count images per class\n",
    "class_counts = {}\n",
    "for class_name in class_names:\n",
    "    class_dir = os.path.join(dataset_path, class_name)\n",
    "    image_count = len([f for f in os.listdir(class_dir) \n",
    "                       if os.path.isfile(os.path.join(class_dir, f)) and \n",
    "                       f.lower().endswith(('.png', '.jpg', '.jpeg'))])\n",
    "    class_counts[class_name] = image_count\n",
    "\n",
    "# Plot class distribution\n",
    "plt.figure(figsize=(15, 8))\n",
    "plt.bar(class_counts.keys(), class_counts.values())\n",
    "plt.xticks(rotation=90)\n",
    "plt.title('Number of Images per Class')\n",
    "plt.xlabel('Class')\n",
    "plt.ylabel('Number of Images')\n",
    "plt.tight_layout()\n",
    "plt.show()"
   ]
  },
  {
   "cell_type": "code",
   "execution_count": null,
   "metadata": {},
   "source": [
    "# Visualize some sample images\n",
    "plt.figure(figsize=(15, 10))\n",
    "for i, class_name in enumerate(class_names[:5]):\n",
    "    class_dir = os.path.join(dataset_path, class_name)\n",
    "    images = [f for f in os.listdir(class_dir) \n",
    "              if os.path.isfile(os.path.join(class_dir, f)) and \n",
    "              f.lower().endswith(('.png', '.jpg', '.jpeg'))]\n",
    "    \n",
    "    for j in range(5):\n",
    "        plt.subplot(5, 5, i*5 + j + 1)\n",
    "        img_path = os.path.join(class_dir, images[j])\n",
    "        img = plt.imread(img_path)\n",
    "        plt.imshow(img)\n",
    "        plt.title(class_name.split('___')[0] if j == 0 else '')\n",
    "        plt.axis('off')\n",
    "        \n",
    "plt.tight_layout()\n",
    "plt.show()"
   ]
  },
  {
   "cell_type": "markdown",
   "metadata": {},
   "source": [
    "## 2. Data Preprocessing and Augmentation"
   ]
  },
  {
   "cell_type": "code",
   "execution_count": null,
   "metadata": {},
   "source": [
    "from data.dataset import PlantVillageDataset\n",
    "from data.augmentation import CustomAugmentation\n",
    "\n",
    "# Initialize dataset\n",
    "dataset = PlantVillageDataset(\n",
    "    data_dir=dataset_path,\n",
    "    img_size=224,\n",
    "    batch_size=32\n",
    ")\n",
    "\n",
    "# Load data\n",
    "train_ds, val_ds, test_ds = dataset.load_data(\n",
    "    train_split=0.8,\n",
    "    val_split=0.1,\n",
    "    test_split=0.1\n",
    ")"
   ]
  },
  {
   "cell_type": "code",
   "execution_count": null,
   "metadata": {},
   "source": [
    "# Visualize data augmentation\n",
    "augmentation = CustomAugmentation()\n",
    "\n",
    "# Get a sample image\n",
    "for images, _ in train_ds.take(1):\n",
    "    sample_image = images[0].numpy()\n",
    "    break\n",
    "\n",
    "# Apply different augmentations\n",
    "plt.figure(figsize=(15, 10))\n",
    "\n",
    "plt.subplot(2, 3, 1)\n",
    "plt.imshow(sample_image)\n",
    "plt.title('Original')\n",
    "plt.axis('off')\n",
    "\n",
    "plt.subplot(2, 3, 2)\n",
    "aug_img = augmentation.apply_augmentation(sample_image)\n",
    "plt.imshow(aug_img)\n",
    "plt.title('Standard Augmentation')\n",
    "plt.axis('off')\n",
    "\n",
    "plt.subplot(2, 3, 3)\n",
    "aug_img = augmentation._apply_lighting_change(sample_image)\n",
    "plt.imshow(aug_img)\n",
    "plt.title('Lighting Change')\n",
    "plt.axis('off')\n",
    "\n",
    "plt.subplot(2, 3, 4)\n",
    "aug_img = augmentation._apply_leaf_orientation(sample_image)\n",
    "plt.imshow(aug_img)\n",
    "plt.title('Leaf Orientation')\n",
    "plt.axis('off')\n",
    "\n",
    "plt.subplot(2, 3, 5)\n",
    "aug_img = augmentation._apply_background_noise(sample_image)\n",
    "plt.imshow(aug_img)\n",
    "plt.title('Background Noise')\n",
    "plt.axis('off')\n",
    "\n",
    "plt.subplot(2, 3, 6)\n",
    "aug_img = augmentation.apply_domain_specific_augmentation(sample_image)\n",
    "plt.imshow(aug_img)\n",
    "plt.title('Domain-Specific Augmentation')\n",
    "plt.axis('off')\n",
    "\n",
    "plt.tight_layout()\n",
    "plt.show()"
   ]
  },
  {
   "cell_type": "markdown",
   "metadata": {},
   "source": [
    "## 3. Model Architecture"
   ]
  },
  {
   "cell_type": "code",
   "execution_count": null,
   "metadata": {},
   "source": [
    "from models.efficientnet import CropDiseaseModel\n",
    "\n",
    "# Initialize model\n",
    "model = CropDiseaseModel(\n",
    "    num_classes=len(class_names),\n",
    "    img_size=224\n",
    ")\n",
    "\n",
    "# Display model summary\n",
    "model.model.summary()"
   ]
  },
  {
   "cell_type": "markdown",
   "metadata": {},
   "source": [
    "## 4. Model Training"
   ]
  },
  {
   "cell_type": "code",
   "execution_count": null,
   "metadata": {},
   "source": [
    "# Define callbacks\n",
    "callbacks = [\n",
    "    ModelCheckpoint(\n",
    "        '../models/weights/efficientnet_b0_crop_disease.h5',\n",
    "        monitor='val_accuracy',\n",
    "        save_best_only=True,\n",
    "        mode='max',\n",
    "        verbose=1\n",
    "    ),\n",
    "    EarlyStopping(\n",
    "        monitor='val_loss',\n",
    "        patience=5,\n",
    "        restore_best_weights=True,\n",
    "        verbose=1\n",
    "    ),\n",
    "    ReduceLROnPlateau(\n",
    "        monitor='val_loss',\n",
    "        factor=0.2,\n",
    "        patience=3,\n",
    "        min_lr=1e-6,\n",
    "        verbose=1\n",
    "    )\n",
    "]"
   ]
  },
  {
   "cell_type": "code",
   "execution_count": null,
   "metadata": {},
   "source": [
    "# Train model\n",
    "history = model.model.fit(\n",
    "    train_ds,\n",
    "    validation_data=val_ds,\n",
    "    epochs=50,  # We'll use early stopping\n",
    "    callbacks=callbacks\n",
    ")"
   ]
  },
  {
   "cell_type": "code",
   "execution_count": null,
   "metadata": {},
   "source": [
    "# Plot training history\n",
    "plt.figure(figsize=(12, 5))\n",
    "\n",
    "plt.subplot(1, 2, 1)\n",
    "plt.plot(history.history['accuracy'])\n",
    "plt.plot(history.history['val_accuracy'])\n",
    "plt.title('Model Accuracy')\n",
    "plt.ylabel('Accuracy')\n",
    "plt.xlabel('Epoch')\n",
    "plt.legend(['Train', 'Validation'], loc='lower right')\n",
    "\n",
    "plt.subplot(1, 2, 2)\n",
    "plt.plot(history.history['loss'])\n",
    "plt.plot(history.history['val_loss'])\n",
    "plt.title('Model Loss')\n",
    "plt.ylabel('Loss')\n",
    "plt.xlabel('Epoch')\n",
    "plt.legend(['Train', 'Validation'], loc='upper right')\n",
    "\n",
    "plt.tight_layout()\n",
    "plt.show()"
   ]
  },
  {
   "cell_type": "markdown",
   "metadata": {},
   "source": [
    "## 5. Model Evaluation"
   ]
  },
  {
   "cell_type": "code",
   "execution_count": null,
   "metadata": {},
   "source": [
    "# Evaluate on test set\n",
    "test_loss, test_acc = model.model.evaluate(test_ds)\n",
    "print(f\"Test accuracy: {test_acc:.4f}\")\n",
    "print(f\"Test loss: {test_loss:.4f}\")"
   ]
  },
  {
   "cell_type": "code",
   "execution_count": null,
   "metadata": {},
   "source": [
    "# Get predictions and true labels\n",
    "y_pred = []\n",
    "y_true = []\n",
    "\n",
    "for images, labels in test_ds:\n",
    "    predictions = model.model.predict(images)\n",
    "    y_pred.extend(np.argmax(predictions, axis=1))\n",
    "    y_true.extend(np.argmax(labels, axis=1))\n",
    "\n",
    "# Print classification report\n",
    "print(classification_report(y_true, y_pred, target_names=class_names))"
   ]
  },
  {
   "cell_type": "code",
   "execution_count": null,
   "metadata": {},
   "source": [
    "# Generate confusion matrix\n",
    "cm = confusion_matrix(y_true, y_pred)\n",
    "\n",
    "# Plot confusion matrix\n",
    "plt.figure(figsize=(15, 15))\n",
    "sns.heatmap(cm, annot=True, fmt='d', cmap='Blues')\n",
    "plt.title('Confusion Matrix')\n",
    "plt.ylabel('True Label')\n",
    "plt.xlabel('Predicted Label')\n",
    "plt.show()"
   ]
  },
  {
   "cell_type": "markdown",
   "metadata": {},
   "source": [
    "## 6. Grad-CAM Visualization"
   ]
  },
  {
   "cell_type": "code",
   "execution_count": null,
   "metadata": {},
   "source": [
    "from models.gradcam import GradCAM\n",
    "import cv2\n",
    "\n",
    "# Create GradCAM object\n",
    "gradcam = GradCAM(model)"
   ]
  },
  {
   "cell_type": "code",
   "execution_count": null,
   "metadata": {},
   "source": [
    "# Get a batch of test images\n",
    "for images, labels in test_ds.take(1):\n",
    "    test_images = images\n",
    "    test_labels = labels\n",
    "    break\n",
    "\n",
    "# Generate GradCAM for a few examples\n",
    "num_examples = 5\n",
    "plt.figure(figsize=(15, 4 * num_examples))\n",
    "\n",
    "for i in range(num_examples):\n",
    "    img = test_images[i]\n",
    "    true_label = np.argmax(test_labels[i])\n",
    "    \n",
    "    # Make prediction\n",
    "    pred = model.model.predict(np.expand_dims(img, axis=0))[0]\n",
    "    pred_label = np.argmax(pred)\n",
    "    \n",
    "    # Generate heatmap\n",
    "    heatmap = gradcam.compute_heatmap(\n",
    "        np.expand_dims(img, axis=0), \n",
    "        pred_label\n",
    "    )\n",
    "    \n",
    "    # Convert image to uint8\n",
    "    img_display = (img * 255).astype(np.uint8)\n",
    "    \n",
    "    # Resize heatmap to match image size\n",
    "    heatmap = cv2.resize(heatmap, (img.shape[1], img.shape[0]))\n",
    "    heatmap = np.uint8(255 * heatmap)\n",
    "    heatmap = cv2.applyColorMap(heatmap, cv2.COLORMAP_JET)\n",
    "    \n",
    "    # Overlay heatmap on image\n",
    "    superimposed = cv2.addWeighted(img_display, 0.6, heatmap, 0.4, 0)\n",
    "    \n",
    "    # Display images\n",
    "    plt.subplot(num_examples, 3, i*3 + 1)\n",
    "    plt.imshow(img)\n",
    "    plt.title(f\"Original: {class_names[true_label].replace('___', ' - ')}\")\n",
    "    plt.axis('off')\n",
    "    \n",
    "    plt.subplot(num_examples, 3, i*3 + 2)\n",
    "    plt.imshow(heatmap)\n",
    "    plt.title('Heatmap')\n",
    "    plt.axis('off')\n",
    "    \n",
    "    plt.subplot(num_examples, 3, i*3 + 3)\n",
    "    plt.imshow(superimposed)\n",
    "    plt.title(f\"Prediction: {class_names[pred_label].replace('___', ' - ')} ({pred[pred_label]:.2f})\")\n",
    "    plt.axis('off')\n",
    "\n",
    "plt.tight_layout()\n",
    "plt.show()"
   ]
  },
  {
   "cell_type": "markdown",
   "metadata": {},
   "source": [
    "## 7. Model Export for Deployment"
   ]
  },
  {
   "cell_type": "code",
   "execution_count": null,
   "metadata": {},
   "source": [
    "# Save model for deployment\n",
    "model.model.save('../models/efficientnet_b0_crop_disease_full.h5')\n",
    "print(\"Model saved for deployment\")"
   ]
  },
  {
   "cell_type": "code",
   "execution_count": null,
   "metadata": {},
   "source": [
    "# Convert to TensorFlow Lite for mobile deployment\n",
    "converter = tf.lite.TFLiteConverter.from_keras_model(model.model)\n",
    "tflite_model = converter.convert()\n",
    "\n",
    "# Save the TF Lite model\n",
    "with open('../models/efficientnet_b0_crop_disease.tflite', 'wb') as f:\n",
    "    f.write(tflite_model)\n",
    "    \n",
    "print(\"TensorFlow Lite model saved for mobile deployment\")"
   ]
  }
 ],
 "metadata": {
  "kernelspec": {
   "display_name": "Python 3",
   "language": "python",
   "name": "python3"
  },
  "language_info": {
   "codemirror_mode": {
    "name": "ipython",
    "version": 3
   },
   "file_extension": ".py",
   "mimetype": "text/x-python",
   "name": "python",
   "nbconvert_exporter": "python",
   "pygments_lexer": "ipython3",
   "version": "3.8.10"
  }
 },
 "nbformat": 4,
 "nbformat_minor": 4
}